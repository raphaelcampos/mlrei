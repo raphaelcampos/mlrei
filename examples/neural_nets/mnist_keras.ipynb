{
 "cells": [
  {
   "cell_type": "code",
   "execution_count": 95,
   "metadata": {},
   "outputs": [],
   "source": [
    "# aux imports\n",
    "import numpy as np\n",
    "import pandas as pd\n",
    "from plotnine import ggplot, aes, geom_line, geom_vline, geom_hline, ylab, xlab\n",
    "\n",
    "# keras imports\n",
    "from keras.layers import Dense\n",
    "from keras.models import Sequential\n",
    "from keras.callbacks import LambdaCallback\n",
    "\n",
    "# sklearn imports\n",
    "from sklearn.datasets import fetch_mldata\n",
    "from sklearn.preprocessing import LabelBinarizer\n",
    "from sklearn.model_selection import train_test_split, StratifiedKFold"
   ]
  },
  {
   "cell_type": "code",
   "execution_count": 2,
   "metadata": {},
   "outputs": [],
   "source": [
    "mnist = fetch_mldata('MNIST original')"
   ]
  },
  {
   "cell_type": "code",
   "execution_count": 3,
   "metadata": {},
   "outputs": [],
   "source": [
    "lb = LabelBinarizer()\n",
    "y = lb.fit(mnist.target).transform(mnist.target)"
   ]
  },
  {
   "cell_type": "code",
   "execution_count": 4,
   "metadata": {},
   "outputs": [],
   "source": [
    "X_train, X_test, y_train , y_test  = train_test_split(mnist.data, y, test_size=0.2)"
   ]
  },
  {
   "cell_type": "code",
   "execution_count": 11,
   "metadata": {},
   "outputs": [],
   "source": [
    "def get_model(hidden_unit_size):\n",
    "    ''' Creates a 2-layers fully connected neural network\n",
    "        for the mnist dataset.\n",
    "        The neural net's layer size are the following:\n",
    "        [784, hidden_unit_size, 10]\n",
    "        \n",
    "    :param hidden_unit_size: int.\n",
    "        the size of the hidden layer\n",
    "    :return: keras.models.Sequential\n",
    "    '''\n",
    "    model = Sequential()\n",
    "\n",
    "    model.add(Dense(hidden_unit_size, activation='sigmoid', input_shape=(784,)))\n",
    "    model.add(Dense(10, activation='softmax'))\n",
    "\n",
    "    model.compile(loss='categorical_crossentropy', optimizer='sgd', metrics=['accuracy'])\n",
    "    return model"
   ]
  },
  {
   "cell_type": "code",
   "execution_count": 106,
   "metadata": {},
   "outputs": [
    {
     "data": {
      "text/plain": [
       "array([   8,   16,   32,   64,  128,  256,  512, 1024, 2048, 4096, 8192])"
      ]
     },
     "execution_count": 106,
     "metadata": {},
     "output_type": "execute_result"
    }
   ],
   "source": [
    "hidden_unit_sizes = 2 ** np.arange(3, 14) \n",
    "hidden_unit_sizes "
   ]
  },
  {
   "cell_type": "code",
   "execution_count": 108,
   "metadata": {
    "scrolled": false
   },
   "outputs": [
    {
     "name": "stdout",
     "output_type": "stream",
     "text": [
      "Trained: 100.00%\r"
     ]
    }
   ],
   "source": [
    "epochs = 5\n",
    "accs = []\n",
    "test_errors = np.ones(hidden_unit_sizes.shape[0])\n",
    "\n",
    "# callback for retrieving training info.\n",
    "# the info will be plotted subsequently.\n",
    "logging_callback = LambdaCallback(\n",
    "    on_epoch_end=lambda epoch, logs: accs.append(logs),\n",
    ")\n",
    "\n",
    "norm = hidden_unit_sizes.sum()\n",
    "total_trained = 0\n",
    "for i, hidden_unit_size in enumerate(hidden_unit_sizes):\n",
    "    model = get_model(hidden_unit_size)\n",
    "    # training neural net\n",
    "    model.fit(X_train, y_train, \n",
    "              epochs = epochs,\n",
    "              verbose=0,\n",
    "              batch_size=256,\n",
    "              validation_split=0.2,\n",
    "              callbacks=[logging_callback])\n",
    "    \n",
    "    y_pred = np.argmax(model.predict(X_test), axis=1)\n",
    "    test_errors[i] = np.mean(y_pred != np.argmax(y_test, axis=1))\n",
    "    total_trained += hidden_unit_size / norm\n",
    "    print('Trained: {:.2f}%'.format(total_trained * 100), end=\"\\r\")\n",
    "\n",
    "# pandas dataframe with the training info\n",
    "results = pd.DataFrame(accs)\n",
    "results['size']  = np.repeat(hidden_unit_sizes, epochs)\n",
    "results['epoch']  = np.tile(np.arange(epochs), hidden_unit_sizes.shape[0])"
   ]
  },
  {
   "cell_type": "code",
   "execution_count": 109,
   "metadata": {
    "scrolled": false
   },
   "outputs": [
    {
     "name": "stderr",
     "output_type": "stream",
     "text": [
      "/home/raphael/Documents/mlrei/.venv/lib/python3.5/site-packages/ipykernel_launcher.py:7: SettingWithCopyWarning: \n",
      "A value is trying to be set on a copy of a slice from a DataFrame.\n",
      "Try using .loc[row_indexer,col_indexer] = value instead\n",
      "\n",
      "See the caveats in the documentation: http://pandas.pydata.org/pandas-docs/stable/indexing.html#indexing-view-versus-copy\n",
      "  import sys\n"
     ]
    },
    {
     "data": {
      "image/png": "[encoded data removed]",
      "text/plain": [
       "<Figure size 640x480 with 1 Axes>"
      ]
     },
     "metadata": {},
     "output_type": "display_data"
    },
    {
     "data": {
      "text/plain": [
       "<ggplot: (8781743111253)>"
      ]
     },
     "execution_count": 109,
     "metadata": {},
     "output_type": "execute_result"
    }
   ],
   "source": [
    "# filtering dataframe.\n",
    "# we are interested only in the last epoch\n",
    "last_epoch_results = results[results.\n",
    "                                groupby('size').\n",
    "                                epoch.\n",
    "                                apply(lambda x: x == x.max())]\n",
    "last_epoch_results['test_errors'] = test_errors\n",
    "\n",
    "# ploting trainig and validation error vs model complexity.\n",
    "ggplot(last_epoch_results.iloc[3:], aes(x='size')) + \\\n",
    "geom_line(aes(y='1 - acc'), color='blue') + \\\n",
    "geom_line(aes(y='1 - val_acc'), color='red') + \\\n",
    "geom_line(aes(y='test_errors'), color='green') + \\\n",
    "ylab('error') + xlab('complexity')"
   ]
  },
  {
   "cell_type": "code",
   "execution_count": null,
   "metadata": {},
   "outputs": [],
   "source": []
  }
 ],
 "metadata": {
  "kernelspec": {
   "display_name": "Python 3",
   "language": "python",
   "name": "python3"
  },
  "language_info": {
   "codemirror_mode": {
    "name": "ipython",
    "version": 3
   },
   "file_extension": ".py",
   "mimetype": "text/x-python",
   "name": "python",
   "nbconvert_exporter": "python",
   "pygments_lexer": "ipython3",
   "version": "3.5.2"
  }
 },
 "nbformat": 4,
 "nbformat_minor": 2
}
