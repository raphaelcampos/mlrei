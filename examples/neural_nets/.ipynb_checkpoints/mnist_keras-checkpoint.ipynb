{
 "cells": [
  {
   "cell_type": "code",
   "execution_count": 55,
   "metadata": {},
   "outputs": [],
   "source": [
    "# aux imports\n",
    "import numpy as np\n",
    "import pandas as pd\n",
    "from plotnine import ggplot, aes, geom_line, ylab\n",
    "\n",
    "# keras imports\n",
    "from keras.layers import Dense\n",
    "from keras.models import Sequential\n",
    "from keras.callbacks import LambdaCallback\n",
    "\n",
    "# sklearn imports\n",
    "from sklearn.datasets import fetch_mldata\n",
    "from sklearn.preprocessing import LabelBinarizer\n",
    "from sklearn.model_selection import train_test_split, StratifiedKFold"
   ]
  },
  {
   "cell_type": "code",
   "execution_count": 2,
   "metadata": {},
   "outputs": [],
   "source": [
    "mnist = fetch_mldata('MNIST original')"
   ]
  },
  {
   "cell_type": "code",
   "execution_count": 3,
   "metadata": {},
   "outputs": [],
   "source": [
    "lb = LabelBinarizer()\n",
    "y = lb.fit(mnist.target).transform(mnist.target)"
   ]
  },
  {
   "cell_type": "code",
   "execution_count": 4,
   "metadata": {},
   "outputs": [],
   "source": [
    "X_train, X_test, y_train , y_test  = train_test_split(mnist.data, y, test_size=0.2)"
   ]
  },
  {
   "cell_type": "code",
   "execution_count": 11,
   "metadata": {},
   "outputs": [],
   "source": [
    "def get_model(hidden_unit_size):\n",
    "    ''' Creates a 2-layers fully connected neural network\n",
    "        for the mnist dataset.\n",
    "        The neural net's layer size are the following:\n",
    "        [784, hidden_unit_size, 10]\n",
    "        \n",
    "    :param hidden_unit_size: int.\n",
    "        the size of the hidden layer\n",
    "    :return: keras.models.Sequential\n",
    "    '''\n",
    "    model = Sequential()\n",
    "\n",
    "    model.add(Dense(hidden_unit_size, activation='sigmoid', input_shape=(784,)))\n",
    "    model.add(Dense(10, activation='softmax'))\n",
    "\n",
    "    model.compile(loss='categorical_crossentropy', optimizer='sgd', metrics=['accuracy'])\n",
    "    return model"
   ]
  },
  {
   "cell_type": "code",
   "execution_count": 60,
   "metadata": {},
   "outputs": [
    {
     "data": {
      "text/plain": [
       "array([    2,     4,     8,    16,    32,    64,   128,   256,   512,\n",
       "        1024,  2048,  4096,  8192, 16384, 32768])"
      ]
     },
     "execution_count": 60,
     "metadata": {},
     "output_type": "execute_result"
    }
   ],
   "source": [
    "hidden_unit_sizes = 2 ** np.arange(1, 16) \n",
    "hidden_unit_sizes "
   ]
  },
  {
   "cell_type": "code",
   "execution_count": null,
   "metadata": {
    "scrolled": false
   },
   "outputs": [],
   "source": [
    "epochs = 5\n",
    "accs = []\n",
    "\n",
    "# callback for retrieving training info.\n",
    "# the info will be plotted subsequently.\n",
    "logging_callback = LambdaCallback(\n",
    "    on_epoch_end=lambda epoch, logs: accs.append(logs),\n",
    ")\n",
    "\n",
    "for hidden_unit_size in hidden_unit_sizes:\n",
    "    model = get_model(hidden_unit_size)\n",
    "    # training neural net\n",
    "    model.fit(X_train, y_train, \n",
    "              epochs = epochs,\n",
    "              verbose=0,\n",
    "              batch_size=128,\n",
    "              validation_split=0.2,\n",
    "              callbacks=[logging_callback])\n",
    "\n",
    "# pandas dataframe with the training info\n",
    "results = pd.DataFrame(accs)\n",
    "results['size']  = np.repeat(hidden_unit_sizes, epochs)\n",
    "results['epoch']  = np.tile(np.arange(epochs), hidden_unit_sizes.shape[0])"
   ]
  },
  {
   "cell_type": "code",
   "execution_count": null,
   "metadata": {},
   "outputs": [],
   "source": [
    "last_epoch_results = results[results.\n",
    "                                groupby('size').\n",
    "                                epoch.\n",
    "                                apply(lambda x: x == x.max())]\n",
    "\n",
    "ggplot(last_epoch_results, aes(x='size')) + \\\n",
    "geom_line(aes(y='1 - acc')) + \\\n",
    "geom_line(aes(y='1 - val_acc')) + \\\n",
    "ylab('error')"
   ]
  },
  {
   "cell_type": "code",
   "execution_count": 58,
   "metadata": {},
   "outputs": [],
   "source": [
    "model.fit?"
   ]
  },
  {
   "cell_type": "code",
   "execution_count": 84,
   "metadata": {},
   "outputs": [
    {
     "data": {
      "text/plain": [
       "0.91178571428571431"
      ]
     },
     "execution_count": 84,
     "metadata": {},
     "output_type": "execute_result"
    }
   ],
   "source": [
    "np.mean(np.argmax(model.predict(X_test), axis=1) == np.argmax(y_test, axis=1))"
   ]
  },
  {
   "cell_type": "code",
   "execution_count": 85,
   "metadata": {},
   "outputs": [
    {
     "data": {
      "text/plain": [
       "array([[0, 0, 0, ..., 0, 0, 0],\n",
       "       [0, 0, 0, ..., 1, 0, 0],\n",
       "       [0, 0, 0, ..., 0, 1, 0],\n",
       "       ..., \n",
       "       [0, 0, 0, ..., 0, 0, 0],\n",
       "       [0, 0, 0, ..., 0, 0, 0],\n",
       "       [0, 0, 0, ..., 0, 0, 0]])"
      ]
     },
     "execution_count": 85,
     "metadata": {},
     "output_type": "execute_result"
    }
   ],
   "source": [
    "y_test"
   ]
  }
 ],
 "metadata": {
  "kernelspec": {
   "display_name": "Python 3",
   "language": "python",
   "name": "python3"
  },
  "language_info": {
   "codemirror_mode": {
    "name": "ipython",
    "version": 3
   },
   "file_extension": ".py",
   "mimetype": "text/x-python",
   "name": "python",
   "nbconvert_exporter": "python",
   "pygments_lexer": "ipython3",
   "version": "3.5.2"
  }
 },
 "nbformat": 4,
 "nbformat_minor": 2
}
